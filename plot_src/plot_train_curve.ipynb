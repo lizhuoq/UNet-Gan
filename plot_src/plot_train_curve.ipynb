{
 "cells": [
  {
   "cell_type": "code",
   "execution_count": null,
   "metadata": {},
   "outputs": [],
   "source": [
    "import matplotlib.pyplot as plt\n",
    "import pandas as pd\n",
    "import os\n",
    "\n",
    "save_dir = \"../plot\"\n",
    "os.makedirs(save_dir, exist_ok=True)\n",
    "\n",
    "# df = pd.read_csv(\"../training_results/Generator_UNet_epochs_200_Glr_0.0005_Dlr_1e-06_patience_10_batch_size_100_warmup_epochs_0_perceptual_loss_vgg16_kernel_size_3_exp_ratio_2_squeeze_ratio_2/train_logs.csv\")\n",
    "df = pd.read_csv(\"../training_results/finetune_Generator_UNet_epochs_250_Glr_0.00035_Dlr_7e-07_patience_10_batch_size_50_warmup_epochs_0_perceptual_loss_vgg16_kernel_size_3_exp_ratio_2_squeeze_ratio_2_point_alpha_0.01_fold_n_2/train_logs.csv\")\n",
    "df[\"Score_D - Score_G\"] = df[\"Score_D\"] - df[\"Score_G\"]\n",
    "fig, axes = plt.subplots(2, 2, figsize=(10, 6))\n",
    "df.set_index(\"Epoch\", inplace=True)\n",
    "\n",
    "# 设置绘图风格\n",
    "plt.style.use('ggplot')\n",
    "\n",
    "# 设置字体和其他参数\n",
    "params = {\n",
    "    'axes.titlesize': 12,\n",
    "    'axes.labelsize': 10,\n",
    "    'xtick.labelsize': 8,\n",
    "    'ytick.labelsize': 8,\n",
    "    'legend.fontsize': 8,\n",
    "    'font.family': 'serif',\n",
    "    'font.serif': ['Times New Roman'],\n",
    "    'figure.figsize': (10, 6)\n",
    "}\n",
    "plt.rcParams.update(params)\n",
    "\n",
    "columns = [\"Loss_G\", \"Val_RMSE\", \"Loss_D\", \"Score_D - Score_G\"]\n",
    "for i, (ax, col) in enumerate(zip(axes.ravel(), columns)):\n",
    "    df[[col]].plot(ax=ax)\n",
    "    if i in [0, 1]:\n",
    "        ax.set_xlabel('')  # Remove x-label\n",
    "\n",
    "# 调整布局以获得更好的间距\n",
    "plt.tight_layout()\n",
    "\n",
    "# 保存绘图为PDF文件\n",
    "plt.savefig(os.path.join(save_dir, \"finetune.pdf\"), format='pdf', bbox_inches='tight')\n",
    "# plt.savefig(os.path.join(save_dir, \"pretrain.pdf\"), format='pdf', bbox_inches='tight')"
   ]
  },
  {
   "cell_type": "code",
   "execution_count": null,
   "metadata": {},
   "outputs": [],
   "source": []
  }
 ],
 "metadata": {
  "kernelspec": {
   "display_name": "Python 3",
   "language": "python",
   "name": "python3"
  },
  "language_info": {
   "codemirror_mode": {
    "name": "ipython",
    "version": 3
   },
   "file_extension": ".py",
   "mimetype": "text/x-python",
   "name": "python",
   "nbconvert_exporter": "python",
   "pygments_lexer": "ipython3",
   "version": "3.10.14"
  }
 },
 "nbformat": 4,
 "nbformat_minor": 2
}
