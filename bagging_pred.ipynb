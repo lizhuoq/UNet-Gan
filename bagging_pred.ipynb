{
 "cells": [
  {
   "cell_type": "code",
   "execution_count": 2,
   "metadata": {},
   "outputs": [],
   "source": [
    "import os\n",
    "import xarray as xr\n",
    "\n",
    "pred_dir = \"pred\"\n",
    "exps = [\"ssp1_2_6\", \"ssp2_4_5\", \"ssp3_7_0\", \"ssp5_8_5\", \"historical\"]\n",
    "filenames = [os.path.join(pred_dir, x) for x in os.listdir(pred_dir)]\n",
    "\n",
    "for exp in exps[-1:]:\n",
    "    lst = []\n",
    "    for file in filenames:\n",
    "        if not file.endswith(exp):\n",
    "            continue\n",
    "        ds = xr.open_dataset(os.path.join(file, \"pred.nc\"))\n",
    "        lst.append(ds)\n",
    "    assert len(lst) == 5\n",
    "    data = xr.concat(lst, \"fold\")\n",
    "    data = data.mean(\"fold\")\n",
    "    data.to_netcdf(os.path.join(pred_dir, f\"{exp}.nc\"))"
   ]
  }
 ],
 "metadata": {
  "kernelspec": {
   "display_name": "Python 3",
   "language": "python",
   "name": "python3"
  },
  "language_info": {
   "codemirror_mode": {
    "name": "ipython",
    "version": 3
   },
   "file_extension": ".py",
   "mimetype": "text/x-python",
   "name": "python",
   "nbconvert_exporter": "python",
   "pygments_lexer": "ipython3",
   "version": "3.10.14"
  }
 },
 "nbformat": 4,
 "nbformat_minor": 2
}
